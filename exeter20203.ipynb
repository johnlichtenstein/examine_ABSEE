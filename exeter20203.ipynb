{
 "cells": [
  {
   "cell_type": "markdown",
   "id": "45ad7cf8-cdb0-4686-9f7e-2f7cb4c5a223",
   "metadata": {},
   "source": [
    "## Exeter 2020-3 Observations "
   ]
  },
  {
   "cell_type": "code",
   "execution_count": 1,
   "id": "02460851-6506-4887-9c15-7637192a2cc6",
   "metadata": {},
   "outputs": [
    {
     "ename": "ModuleNotFoundError",
     "evalue": "No module named 'matplotlib'",
     "output_type": "error",
     "traceback": [
      "\u001b[0;31m---------------------------------------------------------------------------\u001b[0m",
      "\u001b[0;31mModuleNotFoundError\u001b[0m                       Traceback (most recent call last)",
      "Cell \u001b[0;32mIn[1], line 8\u001b[0m\n\u001b[1;32m      6\u001b[0m \u001b[38;5;28;01mimport\u001b[39;00m \u001b[38;5;21;01mdatetime\u001b[39;00m\n\u001b[1;32m      7\u001b[0m \u001b[38;5;28;01mimport\u001b[39;00m \u001b[38;5;21;01msqlite3\u001b[39;00m\n\u001b[0;32m----> 8\u001b[0m \u001b[38;5;28;01mfrom\u001b[39;00m \u001b[38;5;21;01mmatplotlib\u001b[39;00m \u001b[38;5;28;01mimport\u001b[39;00m pyplot \u001b[38;5;28;01mas\u001b[39;00m plt\n\u001b[1;32m     10\u001b[0m \u001b[38;5;28;01mfrom\u001b[39;00m \u001b[38;5;21;01mpygments\u001b[39;00m \u001b[38;5;28;01mimport\u001b[39;00m highlight\n\u001b[1;32m     11\u001b[0m \u001b[38;5;28;01mfrom\u001b[39;00m \u001b[38;5;21;01mpygments\u001b[39;00m\u001b[38;5;21;01m.\u001b[39;00m\u001b[38;5;21;01mlexers\u001b[39;00m \u001b[38;5;28;01mimport\u001b[39;00m SqlLexer\n",
      "\u001b[0;31mModuleNotFoundError\u001b[0m: No module named 'matplotlib'"
     ]
    }
   ],
   "source": [
    "import s3fs\n",
    "import pandas as pd\n",
    "import json\n",
    "import numpy as np\n",
    "from datetime import datetime as dt\n",
    "import datetime\n",
    "import sqlite3\n",
    "from matplotlib import pyplot as plt\n",
    "\n",
    "from pygments import highlight\n",
    "from pygments.lexers import SqlLexer\n",
    "from pygments.formatters import HtmlFormatter\n",
    "from IPython.display import HTML, display\n"
   ]
  },
  {
   "cell_type": "code",
   "execution_count": 2,
   "id": "4a98125a-d5cf-4e56-a3e5-345ac3fb744f",
   "metadata": {},
   "outputs": [],
   "source": [
    "con = sqlite3.connect(\"exeter_simple.db\")"
   ]
  },
  {
   "cell_type": "code",
   "execution_count": null,
   "id": "58573099-0063-45b7-96d5-e61cd684614f",
   "metadata": {},
   "outputs": [],
   "source": [
    "freqT = \"\"\"select {fn}, count(*) as n\n",
    "from {tn}\n",
    "group by 1 order by 1\"\"\"\n",
    "dateCountR = pd.read_sql(freqT.format(fn=\"reportingPeriodBeginningDate\", tn=\"history\"), con)\n",
    "dateCountR[\"dropped\"] = -dateCountR[\"n\"].diff()\n",
    "dateCountR[\"reportPeriod\"] = [datetime.datetime.strptime(x, \"%Y-%m-%d\") \\\n",
    "                              for x in dateCountR[\"reportingPeriodBeginningDate\"]]\n",
    "# dateCountR.head(3)\n",
    "fig, ax = plt.subplots()\n",
    "dateCountR.plot(\"reportPeriod\", \"dropped\", ax=ax)\n",
    "ax.set_title(\"Accounts Dropped by Month\")"
   ]
  },
  {
   "cell_type": "code",
   "execution_count": 4,
   "id": "84d0e190-7461-4be8-9528-f63e7d71c9ad",
   "metadata": {},
   "outputs": [
    {
     "ename": "NameError",
     "evalue": "name 'HTML' is not defined",
     "output_type": "error",
     "traceback": [
      "\u001b[0;31m---------------------------------------------------------------------------\u001b[0m",
      "\u001b[0;31mNameError\u001b[0m                                 Traceback (most recent call last)",
      "Cell \u001b[0;32mIn[4], line 2\u001b[0m\n\u001b[1;32m      1\u001b[0m qS \u001b[38;5;241m=\u001b[39m \u001b[38;5;28mopen\u001b[39m(\u001b[38;5;124m'\u001b[39m\u001b[38;5;124msql/lastEntryZeroBal.sql\u001b[39m\u001b[38;5;124m'\u001b[39m)\u001b[38;5;241m.\u001b[39mread()\n\u001b[0;32m----> 2\u001b[0m display(\u001b[43mHTML\u001b[49m(data\u001b[38;5;241m=\u001b[39mhighlight(qS, SqlLexer(), HtmlFormatter())))\n",
      "\u001b[0;31mNameError\u001b[0m: name 'HTML' is not defined"
     ]
    }
   ],
   "source": [
    "qS = open('sql/lastEntryZeroBal.sql').read()\n",
    "display(HTML(data=highlight(qS, SqlLexer(), HtmlFormatter())))"
   ]
  },
  {
   "cell_type": "code",
   "execution_count": null,
   "id": "e6ad3141-9aa7-4a90-8f71-ddf4e616ffd7",
   "metadata": {},
   "outputs": [],
   "source": [
    "pd.read_sql(qS, con).set_index(\"zeroBalanceCode\")"
   ]
  }
 ],
 "metadata": {
  "kernelspec": {
   "display_name": "Python 3 (ipykernel)",
   "language": "python",
   "name": "python3"
  },
  "language_info": {
   "codemirror_mode": {
    "name": "ipython",
    "version": 3
   },
   "file_extension": ".py",
   "mimetype": "text/x-python",
   "name": "python",
   "nbconvert_exporter": "python",
   "pygments_lexer": "ipython3",
   "version": "3.10.13"
  }
 },
 "nbformat": 4,
 "nbformat_minor": 5
}
