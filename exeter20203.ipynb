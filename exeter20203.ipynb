{
 "cells": [
  {
   "cell_type": "markdown",
   "id": "45ad7cf8-cdb0-4686-9f7e-2f7cb4c5a223",
   "metadata": {},
   "source": [
    "## Exeter 2020-3 Observations "
   ]
  },
  {
   "cell_type": "code",
   "execution_count": 1,
   "id": "02460851-6506-4887-9c15-7637192a2cc6",
   "metadata": {},
   "outputs": [],
   "source": [
    "import s3fs\n",
    "import pandas as pd\n",
    "import json\n",
    "import numpy as np\n",
    "from datetime import datetime as dt\n",
    "import datetime\n",
    "import sqlite3\n",
    "from matplotlib import pyplot as plt\n",
    "\n",
    "from pygments import highlight\n",
    "from pygments.lexers import SqlLexer\n",
    "from pygments.formatters import HtmlFormatter\n",
    "from IPython.display import HTML, display"
   ]
  },
  {
   "cell_type": "code",
   "execution_count": 2,
   "id": "e1cacb72-2605-4d81-a316-a8f8e7f54e13",
   "metadata": {},
   "outputs": [],
   "source": [
    "## !time wget https://datadeloro0tutorials.s3.us-west-2.amazonaws.com/regAB/absee/exeter_simple.db"
   ]
  },
  {
   "cell_type": "code",
   "execution_count": 3,
   "id": "cb635c8f-f191-4acf-97c3-0d9dd54c999a",
   "metadata": {
    "collapsed": true,
    "jupyter": {
     "outputs_hidden": true
    },
    "scrolled": true
   },
   "outputs": [
    {
     "ename": "PermissionError",
     "evalue": "Access Denied",
     "output_type": "error",
     "traceback": [
      "\u001b[0;31m---------------------------------------------------------------------------\u001b[0m",
      "\u001b[0;31mClientError\u001b[0m                               Traceback (most recent call last)",
      "File \u001b[0;32m~/anaconda3/envs/j310/lib/python3.10/site-packages/s3fs/core.py:706\u001b[0m, in \u001b[0;36mS3FileSystem._lsdir\u001b[0;34m(self, path, refresh, max_items, delimiter, prefix, versions)\u001b[0m\n\u001b[1;32m    705\u001b[0m files \u001b[38;5;241m=\u001b[39m []\n\u001b[0;32m--> 706\u001b[0m \u001b[38;5;28;01masync\u001b[39;00m \u001b[38;5;28;01mfor\u001b[39;00m c \u001b[38;5;129;01min\u001b[39;00m \u001b[38;5;28mself\u001b[39m\u001b[38;5;241m.\u001b[39m_iterdir(\n\u001b[1;32m    707\u001b[0m     bucket,\n\u001b[1;32m    708\u001b[0m     max_items\u001b[38;5;241m=\u001b[39mmax_items,\n\u001b[1;32m    709\u001b[0m     delimiter\u001b[38;5;241m=\u001b[39mdelimiter,\n\u001b[1;32m    710\u001b[0m     prefix\u001b[38;5;241m=\u001b[39mprefix,\n\u001b[1;32m    711\u001b[0m     versions\u001b[38;5;241m=\u001b[39mversions,\n\u001b[1;32m    712\u001b[0m ):\n\u001b[1;32m    713\u001b[0m     \u001b[38;5;28;01mif\u001b[39;00m c[\u001b[38;5;124m\"\u001b[39m\u001b[38;5;124mtype\u001b[39m\u001b[38;5;124m\"\u001b[39m] \u001b[38;5;241m==\u001b[39m \u001b[38;5;124m\"\u001b[39m\u001b[38;5;124mdirectory\u001b[39m\u001b[38;5;124m\"\u001b[39m:\n",
      "File \u001b[0;32m~/anaconda3/envs/j310/lib/python3.10/site-packages/s3fs/core.py:756\u001b[0m, in \u001b[0;36mS3FileSystem._iterdir\u001b[0;34m(self, bucket, max_items, delimiter, prefix, versions)\u001b[0m\n\u001b[1;32m    749\u001b[0m it \u001b[38;5;241m=\u001b[39m pag\u001b[38;5;241m.\u001b[39mpaginate(\n\u001b[1;32m    750\u001b[0m     Bucket\u001b[38;5;241m=\u001b[39mbucket,\n\u001b[1;32m    751\u001b[0m     Prefix\u001b[38;5;241m=\u001b[39mprefix,\n\u001b[0;32m   (...)\u001b[0m\n\u001b[1;32m    754\u001b[0m     \u001b[38;5;241m*\u001b[39m\u001b[38;5;241m*\u001b[39m\u001b[38;5;28mself\u001b[39m\u001b[38;5;241m.\u001b[39mreq_kw,\n\u001b[1;32m    755\u001b[0m )\n\u001b[0;32m--> 756\u001b[0m \u001b[38;5;28;01masync\u001b[39;00m \u001b[38;5;28;01mfor\u001b[39;00m i \u001b[38;5;129;01min\u001b[39;00m it:\n\u001b[1;32m    757\u001b[0m     \u001b[38;5;28;01mfor\u001b[39;00m l \u001b[38;5;129;01min\u001b[39;00m i\u001b[38;5;241m.\u001b[39mget(\u001b[38;5;124m\"\u001b[39m\u001b[38;5;124mCommonPrefixes\u001b[39m\u001b[38;5;124m\"\u001b[39m, []):\n",
      "File \u001b[0;32m~/anaconda3/envs/j310/lib/python3.10/site-packages/aiobotocore/paginate.py:30\u001b[0m, in \u001b[0;36mAioPageIterator.__anext__\u001b[0;34m(self)\u001b[0m\n\u001b[1;32m     29\u001b[0m \u001b[38;5;28;01mwhile\u001b[39;00m \u001b[38;5;28;01mTrue\u001b[39;00m:\n\u001b[0;32m---> 30\u001b[0m     response \u001b[38;5;241m=\u001b[39m \u001b[38;5;28;01mawait\u001b[39;00m \u001b[38;5;28mself\u001b[39m\u001b[38;5;241m.\u001b[39m_make_request(current_kwargs)\n\u001b[1;32m     31\u001b[0m     parsed \u001b[38;5;241m=\u001b[39m \u001b[38;5;28mself\u001b[39m\u001b[38;5;241m.\u001b[39m_extract_parsed_response(response)\n",
      "File \u001b[0;32m~/anaconda3/envs/j310/lib/python3.10/site-packages/aiobotocore/client.py:383\u001b[0m, in \u001b[0;36mAioBaseClient._make_api_call\u001b[0;34m(self, operation_name, api_params)\u001b[0m\n\u001b[1;32m    382\u001b[0m     error_class \u001b[38;5;241m=\u001b[39m \u001b[38;5;28mself\u001b[39m\u001b[38;5;241m.\u001b[39mexceptions\u001b[38;5;241m.\u001b[39mfrom_code(error_code)\n\u001b[0;32m--> 383\u001b[0m     \u001b[38;5;28;01mraise\u001b[39;00m error_class(parsed_response, operation_name)\n\u001b[1;32m    384\u001b[0m \u001b[38;5;28;01melse\u001b[39;00m:\n",
      "\u001b[0;31mClientError\u001b[0m: An error occurred (AccessDenied) when calling the ListObjectsV2 operation: Access Denied",
      "\nThe above exception was the direct cause of the following exception:\n",
      "\u001b[0;31mPermissionError\u001b[0m                           Traceback (most recent call last)",
      "Cell \u001b[0;32mIn[3], line 2\u001b[0m\n\u001b[1;32m      1\u001b[0m S3FS \u001b[38;5;241m=\u001b[39m s3fs\u001b[38;5;241m.\u001b[39mS3FileSystem(anon\u001b[38;5;241m=\u001b[39m\u001b[38;5;28;01mTrue\u001b[39;00m)\n\u001b[0;32m----> 2\u001b[0m \u001b[43mS3FS\u001b[49m\u001b[38;5;241;43m.\u001b[39;49m\u001b[43mdownload\u001b[49m\u001b[43m(\u001b[49m\u001b[38;5;124;43m\"\u001b[39;49m\u001b[38;5;124;43ms3://datadeloro0tutorials/regAB/absee/exeter_simple.db\u001b[39;49m\u001b[38;5;124;43m\"\u001b[39;49m\u001b[43m \u001b[49m\u001b[43m\\\u001b[49m\n\u001b[1;32m      3\u001b[0m \u001b[43m    \u001b[49m\u001b[43m,\u001b[49m\u001b[43m \u001b[49m\u001b[38;5;124;43m\"\u001b[39;49m\u001b[38;5;124;43m./exeter_simple.db\u001b[39;49m\u001b[38;5;124;43m\"\u001b[39;49m\u001b[43m)\u001b[49m\n",
      "File \u001b[0;32m~/anaconda3/envs/j310/lib/python3.10/site-packages/fsspec/spec.py:1546\u001b[0m, in \u001b[0;36mAbstractFileSystem.download\u001b[0;34m(self, rpath, lpath, recursive, **kwargs)\u001b[0m\n\u001b[1;32m   1544\u001b[0m \u001b[38;5;28;01mdef\u001b[39;00m \u001b[38;5;21mdownload\u001b[39m(\u001b[38;5;28mself\u001b[39m, rpath, lpath, recursive\u001b[38;5;241m=\u001b[39m\u001b[38;5;28;01mFalse\u001b[39;00m, \u001b[38;5;241m*\u001b[39m\u001b[38;5;241m*\u001b[39mkwargs):\n\u001b[1;32m   1545\u001b[0m \u001b[38;5;250m    \u001b[39m\u001b[38;5;124;03m\"\"\"Alias of `AbstractFileSystem.get`.\"\"\"\u001b[39;00m\n\u001b[0;32m-> 1546\u001b[0m     \u001b[38;5;28;01mreturn\u001b[39;00m \u001b[38;5;28;43mself\u001b[39;49m\u001b[38;5;241;43m.\u001b[39;49m\u001b[43mget\u001b[49m\u001b[43m(\u001b[49m\u001b[43mrpath\u001b[49m\u001b[43m,\u001b[49m\u001b[43m \u001b[49m\u001b[43mlpath\u001b[49m\u001b[43m,\u001b[49m\u001b[43m \u001b[49m\u001b[43mrecursive\u001b[49m\u001b[38;5;241;43m=\u001b[39;49m\u001b[43mrecursive\u001b[49m\u001b[43m,\u001b[49m\u001b[43m \u001b[49m\u001b[38;5;241;43m*\u001b[39;49m\u001b[38;5;241;43m*\u001b[39;49m\u001b[43mkwargs\u001b[49m\u001b[43m)\u001b[49m\n",
      "File \u001b[0;32m~/anaconda3/envs/j310/lib/python3.10/site-packages/fsspec/asyn.py:118\u001b[0m, in \u001b[0;36msync_wrapper.<locals>.wrapper\u001b[0;34m(*args, **kwargs)\u001b[0m\n\u001b[1;32m    115\u001b[0m \u001b[38;5;129m@functools\u001b[39m\u001b[38;5;241m.\u001b[39mwraps(func)\n\u001b[1;32m    116\u001b[0m \u001b[38;5;28;01mdef\u001b[39;00m \u001b[38;5;21mwrapper\u001b[39m(\u001b[38;5;241m*\u001b[39margs, \u001b[38;5;241m*\u001b[39m\u001b[38;5;241m*\u001b[39mkwargs):\n\u001b[1;32m    117\u001b[0m     \u001b[38;5;28mself\u001b[39m \u001b[38;5;241m=\u001b[39m obj \u001b[38;5;129;01mor\u001b[39;00m args[\u001b[38;5;241m0\u001b[39m]\n\u001b[0;32m--> 118\u001b[0m     \u001b[38;5;28;01mreturn\u001b[39;00m \u001b[43msync\u001b[49m\u001b[43m(\u001b[49m\u001b[38;5;28;43mself\u001b[39;49m\u001b[38;5;241;43m.\u001b[39;49m\u001b[43mloop\u001b[49m\u001b[43m,\u001b[49m\u001b[43m \u001b[49m\u001b[43mfunc\u001b[49m\u001b[43m,\u001b[49m\u001b[43m \u001b[49m\u001b[38;5;241;43m*\u001b[39;49m\u001b[43margs\u001b[49m\u001b[43m,\u001b[49m\u001b[43m \u001b[49m\u001b[38;5;241;43m*\u001b[39;49m\u001b[38;5;241;43m*\u001b[39;49m\u001b[43mkwargs\u001b[49m\u001b[43m)\u001b[49m\n",
      "File \u001b[0;32m~/anaconda3/envs/j310/lib/python3.10/site-packages/fsspec/asyn.py:103\u001b[0m, in \u001b[0;36msync\u001b[0;34m(loop, func, timeout, *args, **kwargs)\u001b[0m\n\u001b[1;32m    101\u001b[0m     \u001b[38;5;28;01mraise\u001b[39;00m FSTimeoutError \u001b[38;5;28;01mfrom\u001b[39;00m \u001b[38;5;21;01mreturn_result\u001b[39;00m\n\u001b[1;32m    102\u001b[0m \u001b[38;5;28;01melif\u001b[39;00m \u001b[38;5;28misinstance\u001b[39m(return_result, \u001b[38;5;167;01mBaseException\u001b[39;00m):\n\u001b[0;32m--> 103\u001b[0m     \u001b[38;5;28;01mraise\u001b[39;00m return_result\n\u001b[1;32m    104\u001b[0m \u001b[38;5;28;01melse\u001b[39;00m:\n\u001b[1;32m    105\u001b[0m     \u001b[38;5;28;01mreturn\u001b[39;00m return_result\n",
      "File \u001b[0;32m~/anaconda3/envs/j310/lib/python3.10/site-packages/fsspec/asyn.py:56\u001b[0m, in \u001b[0;36m_runner\u001b[0;34m(event, coro, result, timeout)\u001b[0m\n\u001b[1;32m     54\u001b[0m     coro \u001b[38;5;241m=\u001b[39m asyncio\u001b[38;5;241m.\u001b[39mwait_for(coro, timeout\u001b[38;5;241m=\u001b[39mtimeout)\n\u001b[1;32m     55\u001b[0m \u001b[38;5;28;01mtry\u001b[39;00m:\n\u001b[0;32m---> 56\u001b[0m     result[\u001b[38;5;241m0\u001b[39m] \u001b[38;5;241m=\u001b[39m \u001b[38;5;28;01mawait\u001b[39;00m coro\n\u001b[1;32m     57\u001b[0m \u001b[38;5;28;01mexcept\u001b[39;00m \u001b[38;5;167;01mException\u001b[39;00m \u001b[38;5;28;01mas\u001b[39;00m ex:\n\u001b[1;32m     58\u001b[0m     result[\u001b[38;5;241m0\u001b[39m] \u001b[38;5;241m=\u001b[39m ex\n",
      "File \u001b[0;32m~/anaconda3/envs/j310/lib/python3.10/site-packages/fsspec/asyn.py:609\u001b[0m, in \u001b[0;36mAsyncFileSystem._get\u001b[0;34m(self, rpath, lpath, recursive, callback, maxdepth, **kwargs)\u001b[0m\n\u001b[1;32m    604\u001b[0m rpaths \u001b[38;5;241m=\u001b[39m \u001b[38;5;28;01mawait\u001b[39;00m \u001b[38;5;28mself\u001b[39m\u001b[38;5;241m.\u001b[39m_expand_path(\n\u001b[1;32m    605\u001b[0m     rpath, recursive\u001b[38;5;241m=\u001b[39mrecursive, maxdepth\u001b[38;5;241m=\u001b[39mmaxdepth\n\u001b[1;32m    606\u001b[0m )\n\u001b[1;32m    607\u001b[0m \u001b[38;5;28;01mif\u001b[39;00m source_is_str \u001b[38;5;129;01mand\u001b[39;00m (\u001b[38;5;129;01mnot\u001b[39;00m recursive \u001b[38;5;129;01mor\u001b[39;00m maxdepth \u001b[38;5;129;01mis\u001b[39;00m \u001b[38;5;129;01mnot\u001b[39;00m \u001b[38;5;28;01mNone\u001b[39;00m):\n\u001b[1;32m    608\u001b[0m     \u001b[38;5;66;03m# Non-recursive glob does not copy directories\u001b[39;00m\n\u001b[0;32m--> 609\u001b[0m     rpaths \u001b[38;5;241m=\u001b[39m [\n\u001b[1;32m    610\u001b[0m         p \u001b[38;5;28;01mfor\u001b[39;00m p \u001b[38;5;129;01min\u001b[39;00m rpaths \u001b[38;5;28;01mif\u001b[39;00m \u001b[38;5;129;01mnot\u001b[39;00m (trailing_sep(p) \u001b[38;5;129;01mor\u001b[39;00m \u001b[38;5;28;01mawait\u001b[39;00m \u001b[38;5;28mself\u001b[39m\u001b[38;5;241m.\u001b[39m_isdir(p))\n\u001b[1;32m    611\u001b[0m     ]\n\u001b[1;32m    612\u001b[0m     \u001b[38;5;28;01mif\u001b[39;00m \u001b[38;5;129;01mnot\u001b[39;00m rpaths:\n\u001b[1;32m    613\u001b[0m         \u001b[38;5;28;01mreturn\u001b[39;00m\n",
      "File \u001b[0;32m~/anaconda3/envs/j310/lib/python3.10/site-packages/fsspec/asyn.py:610\u001b[0m, in \u001b[0;36m<listcomp>\u001b[0;34m(.0)\u001b[0m\n\u001b[1;32m    604\u001b[0m rpaths \u001b[38;5;241m=\u001b[39m \u001b[38;5;28;01mawait\u001b[39;00m \u001b[38;5;28mself\u001b[39m\u001b[38;5;241m.\u001b[39m_expand_path(\n\u001b[1;32m    605\u001b[0m     rpath, recursive\u001b[38;5;241m=\u001b[39mrecursive, maxdepth\u001b[38;5;241m=\u001b[39mmaxdepth\n\u001b[1;32m    606\u001b[0m )\n\u001b[1;32m    607\u001b[0m \u001b[38;5;28;01mif\u001b[39;00m source_is_str \u001b[38;5;129;01mand\u001b[39;00m (\u001b[38;5;129;01mnot\u001b[39;00m recursive \u001b[38;5;129;01mor\u001b[39;00m maxdepth \u001b[38;5;129;01mis\u001b[39;00m \u001b[38;5;129;01mnot\u001b[39;00m \u001b[38;5;28;01mNone\u001b[39;00m):\n\u001b[1;32m    608\u001b[0m     \u001b[38;5;66;03m# Non-recursive glob does not copy directories\u001b[39;00m\n\u001b[1;32m    609\u001b[0m     rpaths \u001b[38;5;241m=\u001b[39m [\n\u001b[0;32m--> 610\u001b[0m         p \u001b[38;5;28;01mfor\u001b[39;00m p \u001b[38;5;129;01min\u001b[39;00m rpaths \u001b[38;5;28;01mif\u001b[39;00m \u001b[38;5;129;01mnot\u001b[39;00m (trailing_sep(p) \u001b[38;5;129;01mor\u001b[39;00m \u001b[38;5;28;01mawait\u001b[39;00m \u001b[38;5;28mself\u001b[39m\u001b[38;5;241m.\u001b[39m_isdir(p))\n\u001b[1;32m    611\u001b[0m     ]\n\u001b[1;32m    612\u001b[0m     \u001b[38;5;28;01mif\u001b[39;00m \u001b[38;5;129;01mnot\u001b[39;00m rpaths:\n\u001b[1;32m    613\u001b[0m         \u001b[38;5;28;01mreturn\u001b[39;00m\n",
      "File \u001b[0;32m~/anaconda3/envs/j310/lib/python3.10/site-packages/s3fs/core.py:1411\u001b[0m, in \u001b[0;36mS3FileSystem._isdir\u001b[0;34m(self, path)\u001b[0m\n\u001b[1;32m   1409\u001b[0m \u001b[38;5;66;03m# This only returns things within the path and NOT the path object itself\u001b[39;00m\n\u001b[1;32m   1410\u001b[0m \u001b[38;5;28;01mtry\u001b[39;00m:\n\u001b[0;32m-> 1411\u001b[0m     \u001b[38;5;28;01mreturn\u001b[39;00m \u001b[38;5;28mbool\u001b[39m(\u001b[38;5;28;01mawait\u001b[39;00m \u001b[38;5;28mself\u001b[39m\u001b[38;5;241m.\u001b[39m_lsdir(path))\n\u001b[1;32m   1412\u001b[0m \u001b[38;5;28;01mexcept\u001b[39;00m \u001b[38;5;167;01mFileNotFoundError\u001b[39;00m:\n\u001b[1;32m   1413\u001b[0m     \u001b[38;5;28;01mreturn\u001b[39;00m \u001b[38;5;28;01mFalse\u001b[39;00m\n",
      "File \u001b[0;32m~/anaconda3/envs/j310/lib/python3.10/site-packages/s3fs/core.py:719\u001b[0m, in \u001b[0;36mS3FileSystem._lsdir\u001b[0;34m(self, path, refresh, max_items, delimiter, prefix, versions)\u001b[0m\n\u001b[1;32m    717\u001b[0m     files \u001b[38;5;241m+\u001b[39m\u001b[38;5;241m=\u001b[39m dirs\n\u001b[1;32m    718\u001b[0m \u001b[38;5;28;01mexcept\u001b[39;00m ClientError \u001b[38;5;28;01mas\u001b[39;00m e:\n\u001b[0;32m--> 719\u001b[0m     \u001b[38;5;28;01mraise\u001b[39;00m translate_boto_error(e)\n\u001b[1;32m    721\u001b[0m \u001b[38;5;28;01mif\u001b[39;00m delimiter \u001b[38;5;129;01mand\u001b[39;00m files \u001b[38;5;129;01mand\u001b[39;00m \u001b[38;5;129;01mnot\u001b[39;00m versions:\n\u001b[1;32m    722\u001b[0m     \u001b[38;5;28mself\u001b[39m\u001b[38;5;241m.\u001b[39mdircache[path] \u001b[38;5;241m=\u001b[39m files\n",
      "\u001b[0;31mPermissionError\u001b[0m: Access Denied"
     ]
    }
   ],
   "source": [
    "S3FS = s3fs.S3FileSystem(anon=True)\n",
    "S3FS.download(\"s3://datadeloro0tutorials/regAB/absee/exeter_simple.db\" \\\n",
    "    , \"./exeter_simple.db\")"
   ]
  },
  {
   "cell_type": "code",
   "execution_count": 4,
   "id": "8b615e71-543e-4dc3-bb4c-17555c590454",
   "metadata": {},
   "outputs": [
    {
     "data": {
      "text/plain": [
       "[None]"
      ]
     },
     "execution_count": 4,
     "metadata": {},
     "output_type": "execute_result"
    }
   ],
   "source": [
    "S3FS = s3fs.S3FileSystem()\n",
    "S3FS.download(\"s3://datadeloro0tutorials/regAB/absee/exeter_simple.db\" \\\n",
    "    , \"./exeter_simple.db\")"
   ]
  },
  {
   "cell_type": "code",
   "execution_count": 5,
   "id": "4a98125a-d5cf-4e56-a3e5-345ac3fb744f",
   "metadata": {},
   "outputs": [],
   "source": [
    "con = sqlite3.connect(\"exeter_simple.db\")"
   ]
  },
  {
   "cell_type": "code",
   "execution_count": 6,
   "id": "58573099-0063-45b7-96d5-e61cd684614f",
   "metadata": {},
   "outputs": [
    {
     "data": {
      "text/plain": [
       "Text(0.5, 1.0, 'Accounts Dropped by Month')"
      ]
     },
     "execution_count": 6,
     "metadata": {},
     "output_type": "execute_result"
    },
    {
     "data": {
      "image/png": "[encoded data removed]",
      "text/plain": [
       "<Figure size 640x480 with 1 Axes>"
      ]
     },
     "metadata": {},
     "output_type": "display_data"
    }
   ],
   "source": [
    "freqT = \"\"\"select {fn}, count(*) as n\n",
    "from {tn}\n",
    "group by 1 order by 1\"\"\"\n",
    "dateCountR = pd.read_sql(freqT.format(fn=\"reportingPeriodBeginningDate\", tn=\"history\"), con)\n",
    "dateCountR[\"dropped\"] = -dateCountR[\"n\"].diff()\n",
    "dateCountR[\"reportPeriod\"] = [datetime.datetime.strptime(x, \"%Y-%m-%d\") \\\n",
    "                              for x in dateCountR[\"reportingPeriodBeginningDate\"]]\n",
    "# dateCountR.head(3)\n",
    "fig, ax = plt.subplots()\n",
    "dateCountR.plot(\"reportPeriod\", \"dropped\", ax=ax)\n",
    "ax.set_title(\"Accounts Dropped by Month\")"
   ]
  },
  {
   "cell_type": "code",
   "execution_count": 8,
   "id": "84d0e190-7461-4be8-9528-f63e7d71c9ad",
   "metadata": {},
   "outputs": [
    {
     "data": {
      "text/html": [
       "<div class=\"highlight\"><pre><span></span><span class=\"k\">with</span><span class=\"w\"> </span><span class=\"n\">maxrep</span><span class=\"w\"> </span><span class=\"k\">as</span><span class=\"w\"> </span><span class=\"p\">(</span>\n",
       "<span class=\"w\">    </span><span class=\"k\">select</span><span class=\"w\"> </span><span class=\"n\">assetNumber</span><span class=\"p\">,</span><span class=\"w\"> </span><span class=\"k\">max</span><span class=\"p\">(</span><span class=\"n\">reportingPeriodBeginningDate</span><span class=\"p\">)</span><span class=\"w\"> </span><span class=\"k\">as</span><span class=\"w\"> </span><span class=\"n\">lastRepDate</span>\n",
       "<span class=\"w\">    </span><span class=\"k\">from</span><span class=\"w\"> </span><span class=\"n\">history</span>\n",
       "<span class=\"w\">    </span><span class=\"k\">group</span><span class=\"w\"> </span><span class=\"k\">by</span><span class=\"w\"> </span><span class=\"mi\">1</span>\n",
       "<span class=\"w\">    </span><span class=\"p\">)</span>\n",
       "<span class=\"w\">    </span><span class=\"p\">,</span><span class=\"w\"> </span><span class=\"n\">maxhist</span><span class=\"w\"> </span><span class=\"k\">as</span><span class=\"w\"> </span><span class=\"p\">(</span>\n",
       "<span class=\"w\">    </span><span class=\"k\">select</span><span class=\"w\"> </span><span class=\"k\">max</span><span class=\"p\">(</span><span class=\"n\">reportingPeriodBeginningDate</span><span class=\"p\">)</span><span class=\"w\"> </span><span class=\"k\">as</span><span class=\"w\"> </span><span class=\"n\">maxRepDate</span>\n",
       "<span class=\"w\">    </span><span class=\"k\">from</span><span class=\"w\"> </span><span class=\"n\">history</span>\n",
       "<span class=\"w\">    </span><span class=\"p\">)</span>\n",
       "<span class=\"w\">    </span><span class=\"p\">,</span><span class=\"w\"> </span><span class=\"n\">earlylast</span><span class=\"w\"> </span><span class=\"k\">as</span><span class=\"w\"> </span><span class=\"p\">(</span>\n",
       "<span class=\"w\">    </span><span class=\"k\">select</span><span class=\"w\"> </span><span class=\"o\">*</span>\n",
       "<span class=\"w\">    </span><span class=\"k\">from</span><span class=\"w\"> </span><span class=\"n\">maxrep</span>\n",
       "<span class=\"w\">    </span><span class=\"k\">where</span><span class=\"w\"> </span><span class=\"n\">lastRepDate</span><span class=\"w\"> </span><span class=\"o\">&lt;</span><span class=\"w\"> </span><span class=\"p\">(</span><span class=\"k\">select</span><span class=\"w\"> </span><span class=\"n\">maxRepDate</span><span class=\"w\"> </span><span class=\"k\">from</span><span class=\"w\"> </span><span class=\"n\">maxhist</span><span class=\"p\">)</span>\n",
       "<span class=\"w\">    </span><span class=\"p\">)</span>\n",
       "<span class=\"w\">    </span><span class=\"p\">,</span><span class=\"w\"> </span><span class=\"n\">lastentry</span><span class=\"w\"> </span><span class=\"k\">as</span><span class=\"w\"> </span><span class=\"p\">(</span>\n",
       "<span class=\"w\">    </span><span class=\"k\">select</span><span class=\"w\"> </span><span class=\"n\">earlylast</span><span class=\"p\">.</span><span class=\"n\">assetNumber</span><span class=\"p\">,</span><span class=\"w\"> </span><span class=\"n\">hist</span><span class=\"p\">.</span><span class=\"n\">reportingPeriodBeginningDate</span>\n",
       "<span class=\"w\">        </span><span class=\"p\">,</span><span class=\"w\"> </span><span class=\"n\">hist</span><span class=\"p\">.</span><span class=\"n\">zeroBalanceCode</span><span class=\"p\">,</span><span class=\"w\"> </span><span class=\"n\">hist</span><span class=\"p\">.</span><span class=\"n\">currentDelinquencyStatus</span>\n",
       "<span class=\"w\">    </span><span class=\"k\">from</span><span class=\"w\"> </span><span class=\"n\">earlylast</span>\n",
       "<span class=\"w\">    </span><span class=\"k\">inner</span><span class=\"w\"> </span><span class=\"k\">join</span><span class=\"w\"> </span><span class=\"n\">history</span><span class=\"w\"> </span><span class=\"n\">hist</span>\n",
       "<span class=\"w\">        </span><span class=\"k\">on</span><span class=\"w\"> </span><span class=\"n\">hist</span><span class=\"p\">.</span><span class=\"n\">reportingPeriodBeginningDate</span><span class=\"w\"> </span><span class=\"o\">=</span><span class=\"w\"> </span><span class=\"n\">earlylast</span><span class=\"p\">.</span><span class=\"n\">lastRepDate</span>\n",
       "<span class=\"w\">\t</span><span class=\"k\">and</span><span class=\"w\"> </span><span class=\"n\">hist</span><span class=\"p\">.</span><span class=\"n\">assetNumber</span><span class=\"w\"> </span><span class=\"o\">=</span><span class=\"w\"> </span><span class=\"n\">earlylast</span><span class=\"p\">.</span><span class=\"n\">assetNumber</span>\n",
       "<span class=\"w\">    </span><span class=\"p\">)</span>\n",
       "<span class=\"w\">    </span><span class=\"p\">,</span><span class=\"w\"> </span><span class=\"n\">checker</span><span class=\"w\"> </span><span class=\"k\">as</span><span class=\"w\"> </span><span class=\"p\">(</span>\n",
       "<span class=\"w\">    </span><span class=\"k\">select</span><span class=\"w\"> </span><span class=\"s1\">&#39;0maxrep&#39;</span><span class=\"w\"> </span><span class=\"k\">as</span><span class=\"w\"> </span><span class=\"n\">cten</span><span class=\"p\">,</span><span class=\"w\"> </span><span class=\"k\">count</span><span class=\"p\">(</span><span class=\"o\">*</span><span class=\"p\">)</span><span class=\"w\"> </span><span class=\"k\">as</span><span class=\"w\"> </span><span class=\"n\">n</span><span class=\"w\"> </span><span class=\"k\">from</span><span class=\"w\"> </span><span class=\"n\">maxrep</span>\n",
       "<span class=\"w\">    </span><span class=\"k\">union</span><span class=\"w\"> </span><span class=\"k\">all</span><span class=\"w\"> </span><span class=\"k\">select</span><span class=\"w\"> </span><span class=\"s1\">&#39;1early&#39;</span><span class=\"w\"> </span><span class=\"k\">as</span><span class=\"w\"> </span><span class=\"n\">cten</span><span class=\"p\">,</span><span class=\"w\"> </span><span class=\"k\">count</span><span class=\"p\">(</span><span class=\"o\">*</span><span class=\"p\">)</span><span class=\"w\"> </span><span class=\"k\">as</span><span class=\"w\"> </span><span class=\"n\">n</span><span class=\"w\"> </span><span class=\"k\">from</span><span class=\"w\"> </span><span class=\"n\">earlylast</span>\n",
       "<span class=\"w\">    </span><span class=\"k\">union</span><span class=\"w\"> </span><span class=\"k\">all</span><span class=\"w\"> </span><span class=\"k\">select</span><span class=\"w\"> </span><span class=\"s1\">&#39;2last&#39;</span><span class=\"w\"> </span><span class=\"k\">as</span><span class=\"w\"> </span><span class=\"n\">cten</span><span class=\"p\">,</span><span class=\"w\"> </span><span class=\"k\">count</span><span class=\"p\">(</span><span class=\"o\">*</span><span class=\"p\">)</span><span class=\"w\"> </span><span class=\"k\">as</span><span class=\"w\"> </span><span class=\"n\">n</span><span class=\"w\"> </span><span class=\"k\">from</span><span class=\"w\"> </span><span class=\"n\">lastentry</span>\n",
       "<span class=\"w\">    </span><span class=\"p\">)</span>\n",
       "<span class=\"w\">    </span><span class=\"p\">,</span><span class=\"w\"> </span><span class=\"n\">report</span><span class=\"w\"> </span><span class=\"k\">as</span><span class=\"w\"> </span><span class=\"p\">(</span>\n",
       "<span class=\"w\">    </span><span class=\"k\">select</span><span class=\"w\"> </span><span class=\"n\">zeroBalanceCode</span><span class=\"p\">,</span><span class=\"w\"> </span><span class=\"k\">count</span><span class=\"p\">(</span><span class=\"o\">*</span><span class=\"p\">)</span><span class=\"w\"> </span><span class=\"k\">as</span><span class=\"w\"> </span><span class=\"n\">n</span>\n",
       "<span class=\"w\">    </span><span class=\"k\">from</span><span class=\"w\"> </span><span class=\"n\">lastentry</span>\n",
       "<span class=\"w\">    </span><span class=\"k\">group</span><span class=\"w\"> </span><span class=\"k\">by</span><span class=\"w\"> </span><span class=\"mi\">1</span><span class=\"w\"> </span><span class=\"k\">order</span><span class=\"w\"> </span><span class=\"k\">by</span><span class=\"w\"> </span><span class=\"mi\">1</span>\n",
       "<span class=\"w\">    </span><span class=\"p\">)</span>\n",
       "<span class=\"err\">{</span><span class=\"k\">final</span><span class=\"err\">}</span>\n",
       "<span class=\"c1\">-- select *</span>\n",
       "<span class=\"c1\">-- from report</span>\n",
       "<span class=\"c1\">-- from checker</span>\n",
       "<span class=\"c1\">-- order by cten</span>\n",
       "</pre></div>\n"
      ],
      "text/plain": [
       "<IPython.core.display.HTML object>"
      ]
     },
     "metadata": {},
     "output_type": "display_data"
    }
   ],
   "source": [
    "qT = open('sql/lastEntryZeroBal.sql').read()\n",
    "display(HTML(data=highlight(qT, SqlLexer(), HtmlFormatter())))"
   ]
  },
  {
   "cell_type": "markdown",
   "id": "3ed24db3-e3fd-424c-a16a-05b994871392",
   "metadata": {},
   "source": [
    "#### check for bad joins"
   ]
  },
  {
   "cell_type": "code",
   "execution_count": 13,
   "id": "e6ad3141-9aa7-4a90-8f71-ddf4e616ffd7",
   "metadata": {},
   "outputs": [
    {
     "data": {
      "text/html": [
       "<div>\n",
       "<style scoped>\n",
       "    .dataframe tbody tr th:only-of-type {\n",
       "        vertical-align: middle;\n",
       "    }\n",
       "\n",
       "    .dataframe tbody tr th {\n",
       "        vertical-align: top;\n",
       "    }\n",
       "\n",
       "    .dataframe thead th {\n",
       "        text-align: right;\n",
       "    }\n",
       "</style>\n",
       "<table border=\"1\" class=\"dataframe\">\n",
       "  <thead>\n",
       "    <tr style=\"text-align: right;\">\n",
       "      <th></th>\n",
       "      <th>cten</th>\n",
       "      <th>n</th>\n",
       "    </tr>\n",
       "  </thead>\n",
       "  <tbody>\n",
       "    <tr>\n",
       "      <th>0</th>\n",
       "      <td>0maxrep</td>\n",
       "      <td>43589</td>\n",
       "    </tr>\n",
       "    <tr>\n",
       "      <th>1</th>\n",
       "      <td>1early</td>\n",
       "      <td>3131</td>\n",
       "    </tr>\n",
       "    <tr>\n",
       "      <th>2</th>\n",
       "      <td>2last</td>\n",
       "      <td>3131</td>\n",
       "    </tr>\n",
       "  </tbody>\n",
       "</table>\n",
       "</div>"
      ],
      "text/plain": [
       "      cten      n\n",
       "0  0maxrep  43589\n",
       "1   1early   3131\n",
       "2    2last   3131"
      ]
     },
     "execution_count": 13,
     "metadata": {},
     "output_type": "execute_result"
    }
   ],
   "source": [
    "pd.read_sql(qT.format(final=\"select * from checker order by cten\"), con)"
   ]
  },
  {
   "cell_type": "markdown",
   "id": "76ca3d82-ed0b-4967-be70-6dd2e48dcc8a",
   "metadata": {},
   "source": [
    "#### looking at last zeroBalanceCode"
   ]
  },
  {
   "cell_type": "code",
   "execution_count": 14,
   "id": "2f7d95a7-d4db-431d-b777-307d055cb7a6",
   "metadata": {},
   "outputs": [
    {
     "data": {
      "text/html": [
       "<div>\n",
       "<style scoped>\n",
       "    .dataframe tbody tr th:only-of-type {\n",
       "        vertical-align: middle;\n",
       "    }\n",
       "\n",
       "    .dataframe tbody tr th {\n",
       "        vertical-align: top;\n",
       "    }\n",
       "\n",
       "    .dataframe thead th {\n",
       "        text-align: right;\n",
       "    }\n",
       "</style>\n",
       "<table border=\"1\" class=\"dataframe\">\n",
       "  <thead>\n",
       "    <tr style=\"text-align: right;\">\n",
       "      <th></th>\n",
       "      <th>zeroBalanceCode</th>\n",
       "      <th>n</th>\n",
       "    </tr>\n",
       "  </thead>\n",
       "  <tbody>\n",
       "    <tr>\n",
       "      <th>0</th>\n",
       "      <td>1.0</td>\n",
       "      <td>1</td>\n",
       "    </tr>\n",
       "    <tr>\n",
       "      <th>1</th>\n",
       "      <td>2.0</td>\n",
       "      <td>2667</td>\n",
       "    </tr>\n",
       "    <tr>\n",
       "      <th>2</th>\n",
       "      <td>3.0</td>\n",
       "      <td>462</td>\n",
       "    </tr>\n",
       "    <tr>\n",
       "      <th>3</th>\n",
       "      <td>4.0</td>\n",
       "      <td>1</td>\n",
       "    </tr>\n",
       "  </tbody>\n",
       "</table>\n",
       "</div>"
      ],
      "text/plain": [
       "  zeroBalanceCode     n\n",
       "0             1.0     1\n",
       "1             2.0  2667\n",
       "2             3.0   462\n",
       "3             4.0     1"
      ]
     },
     "execution_count": 14,
     "metadata": {},
     "output_type": "execute_result"
    }
   ],
   "source": [
    "pd.read_sql(qT.format(final=\"select * from report\"), con)"
   ]
  },
  {
   "cell_type": "markdown",
   "id": "b43fe536-eb2f-4c25-8df4-b49e12efba80",
   "metadata": {},
   "source": [
    "#### looking at delinquenct level on  last\n",
    "They are setting delinquency to 0 when setting 0 balance flag"
   ]
  },
  {
   "cell_type": "code",
   "execution_count": 17,
   "id": "bed28c08-dfff-455a-a19e-75ccdc9719d7",
   "metadata": {
    "collapsed": true,
    "jupyter": {
     "outputs_hidden": true
    }
   },
   "outputs": [
    {
     "data": {
      "text/html": [
       "<div>\n",
       "<style scoped>\n",
       "    .dataframe tbody tr th:only-of-type {\n",
       "        vertical-align: middle;\n",
       "    }\n",
       "\n",
       "    .dataframe tbody tr th {\n",
       "        vertical-align: top;\n",
       "    }\n",
       "\n",
       "    .dataframe thead th {\n",
       "        text-align: right;\n",
       "    }\n",
       "</style>\n",
       "<table border=\"1\" class=\"dataframe\">\n",
       "  <thead>\n",
       "    <tr style=\"text-align: right;\">\n",
       "      <th>currentDelinquencyStatus</th>\n",
       "      <th>0</th>\n",
       "    </tr>\n",
       "    <tr>\n",
       "      <th>zeroBalanceCode</th>\n",
       "      <th></th>\n",
       "    </tr>\n",
       "  </thead>\n",
       "  <tbody>\n",
       "    <tr>\n",
       "      <th>1.0</th>\n",
       "      <td>1</td>\n",
       "    </tr>\n",
       "    <tr>\n",
       "      <th>2.0</th>\n",
       "      <td>2667</td>\n",
       "    </tr>\n",
       "    <tr>\n",
       "      <th>3.0</th>\n",
       "      <td>462</td>\n",
       "    </tr>\n",
       "    <tr>\n",
       "      <th>4.0</th>\n",
       "      <td>1</td>\n",
       "    </tr>\n",
       "  </tbody>\n",
       "</table>\n",
       "</div>"
      ],
      "text/plain": [
       "currentDelinquencyStatus     0\n",
       "zeroBalanceCode               \n",
       "1.0                          1\n",
       "2.0                       2667\n",
       "3.0                        462\n",
       "4.0                          1"
      ]
     },
     "execution_count": 17,
     "metadata": {},
     "output_type": "execute_result"
    }
   ],
   "source": [
    "earlyLastR = pd.read_sql(qT.format(final=\"select * from lastentry\"), con)\n",
    "pd.crosstab(earlyLastR[\"zeroBalanceCode\"] \\\n",
    "            , earlyLastR[\"currentDelinquencyStatus\"])"
   ]
  },
  {
   "cell_type": "code",
   "execution_count": 17,
   "id": "b3a3e4a1-316b-4eca-9024-30f3298a02bc",
   "metadata": {},
   "outputs": [
    {
     "data": {
      "text/html": [
       "<div>\n",
       "<style scoped>\n",
       "    .dataframe tbody tr th:only-of-type {\n",
       "        vertical-align: middle;\n",
       "    }\n",
       "\n",
       "    .dataframe tbody tr th {\n",
       "        vertical-align: top;\n",
       "    }\n",
       "\n",
       "    .dataframe thead th {\n",
       "        text-align: right;\n",
       "    }\n",
       "</style>\n",
       "<table border=\"1\" class=\"dataframe\">\n",
       "  <thead>\n",
       "    <tr style=\"text-align: right;\">\n",
       "      <th>currentDelinquencyStatus</th>\n",
       "      <th>0</th>\n",
       "    </tr>\n",
       "    <tr>\n",
       "      <th>zeroBalanceCode</th>\n",
       "      <th></th>\n",
       "    </tr>\n",
       "  </thead>\n",
       "  <tbody>\n",
       "    <tr>\n",
       "      <th>1.0</th>\n",
       "      <td>1</td>\n",
       "    </tr>\n",
       "    <tr>\n",
       "      <th>2.0</th>\n",
       "      <td>2667</td>\n",
       "    </tr>\n",
       "    <tr>\n",
       "      <th>3.0</th>\n",
       "      <td>462</td>\n",
       "    </tr>\n",
       "    <tr>\n",
       "      <th>4.0</th>\n",
       "      <td>1</td>\n",
       "    </tr>\n",
       "  </tbody>\n",
       "</table>\n",
       "</div>"
      ],
      "text/plain": [
       "currentDelinquencyStatus     0\n",
       "zeroBalanceCode               \n",
       "1.0                          1\n",
       "2.0                       2667\n",
       "3.0                        462\n",
       "4.0                          1"
      ]
     },
     "execution_count": 17,
     "metadata": {},
     "output_type": "execute_result"
    }
   ],
   "source": [
    "pd.crosstab(earlyLastR[\"zeroBalanceCode\"] \\\n",
    "            , earlyLastR[\"currentDelinquencyStatus\"])"
   ]
  },
  {
   "cell_type": "code",
   "execution_count": 41,
   "id": "a7d4a948-725d-4518-93d5-b6d2f46b2eb8",
   "metadata": {},
   "outputs": [
    {
     "data": {
      "text/html": [
       "<div>\n",
       "<style scoped>\n",
       "    .dataframe tbody tr th:only-of-type {\n",
       "        vertical-align: middle;\n",
       "    }\n",
       "\n",
       "    .dataframe tbody tr th {\n",
       "        vertical-align: top;\n",
       "    }\n",
       "\n",
       "    .dataframe thead th {\n",
       "        text-align: right;\n",
       "    }\n",
       "</style>\n",
       "<table border=\"1\" class=\"dataframe\">\n",
       "  <thead>\n",
       "    <tr style=\"text-align: right;\">\n",
       "      <th></th>\n",
       "      <th>count</th>\n",
       "      <th>mean</th>\n",
       "      <th>std</th>\n",
       "      <th>min</th>\n",
       "      <th>25%</th>\n",
       "      <th>50%</th>\n",
       "      <th>75%</th>\n",
       "      <th>max</th>\n",
       "    </tr>\n",
       "    <tr>\n",
       "      <th>zeroBalanceCode</th>\n",
       "      <th></th>\n",
       "      <th></th>\n",
       "      <th></th>\n",
       "      <th></th>\n",
       "      <th></th>\n",
       "      <th></th>\n",
       "      <th></th>\n",
       "      <th></th>\n",
       "    </tr>\n",
       "  </thead>\n",
       "  <tbody>\n",
       "    <tr>\n",
       "      <th>1.0</th>\n",
       "      <td>428381.0</td>\n",
       "      <td>0.000000</td>\n",
       "      <td>0.00000</td>\n",
       "      <td>0.0</td>\n",
       "      <td>0.0</td>\n",
       "      <td>0.0</td>\n",
       "      <td>0.0</td>\n",
       "      <td>0.0</td>\n",
       "    </tr>\n",
       "    <tr>\n",
       "      <th>2.0</th>\n",
       "      <td>2814.0</td>\n",
       "      <td>0.000000</td>\n",
       "      <td>0.00000</td>\n",
       "      <td>0.0</td>\n",
       "      <td>0.0</td>\n",
       "      <td>0.0</td>\n",
       "      <td>0.0</td>\n",
       "      <td>0.0</td>\n",
       "    </tr>\n",
       "    <tr>\n",
       "      <th>3.0</th>\n",
       "      <td>464.0</td>\n",
       "      <td>0.000000</td>\n",
       "      <td>0.00000</td>\n",
       "      <td>0.0</td>\n",
       "      <td>0.0</td>\n",
       "      <td>0.0</td>\n",
       "      <td>0.0</td>\n",
       "      <td>0.0</td>\n",
       "    </tr>\n",
       "    <tr>\n",
       "      <th>4.0</th>\n",
       "      <td>151906.0</td>\n",
       "      <td>0.000000</td>\n",
       "      <td>0.00000</td>\n",
       "      <td>0.0</td>\n",
       "      <td>0.0</td>\n",
       "      <td>0.0</td>\n",
       "      <td>0.0</td>\n",
       "      <td>0.0</td>\n",
       "    </tr>\n",
       "    <tr>\n",
       "      <th>nan</th>\n",
       "      <td>1079781.0</td>\n",
       "      <td>11.122406</td>\n",
       "      <td>25.05756</td>\n",
       "      <td>0.0</td>\n",
       "      <td>0.0</td>\n",
       "      <td>0.0</td>\n",
       "      <td>10.0</td>\n",
       "      <td>987.0</td>\n",
       "    </tr>\n",
       "  </tbody>\n",
       "</table>\n",
       "</div>"
      ],
      "text/plain": [
       "                     count       mean       std  min  25%  50%   75%    max\n",
       "zeroBalanceCode                                                            \n",
       "1.0               428381.0   0.000000   0.00000  0.0  0.0  0.0   0.0    0.0\n",
       "2.0                 2814.0   0.000000   0.00000  0.0  0.0  0.0   0.0    0.0\n",
       "3.0                  464.0   0.000000   0.00000  0.0  0.0  0.0   0.0    0.0\n",
       "4.0               151906.0   0.000000   0.00000  0.0  0.0  0.0   0.0    0.0\n",
       "nan              1079781.0  11.122406  25.05756  0.0  0.0  0.0  10.0  987.0"
      ]
     },
     "execution_count": 41,
     "metadata": {},
     "output_type": "execute_result"
    }
   ],
   "source": [
    "curDelS = \"\"\"select assetNumber\treportingPeriodBeginningDate \n",
    "    , zeroBalanceCode, currentDelinquencyStatus\n",
    "from history\"\"\"\n",
    "curDelR = pd.read_sql(curDelS, con)\n",
    "curDelR.groupby(\"zeroBalanceCode\")[\"currentDelinquencyStatus\"] \\\n",
    "    .describe()"
   ]
  },
  {
   "cell_type": "markdown",
   "id": "8100905f-b022-4ed0-99ba-63d8b172ec8b",
   "metadata": {},
   "source": [
    "#### The 3rd Party Sales are Chargeoffs"
   ]
  },
  {
   "cell_type": "code",
   "execution_count": 44,
   "id": "cda2637d-c46f-4d11-a5c5-125f98fb1b9d",
   "metadata": {},
   "outputs": [
    {
     "data": {
      "text/html": [
       "<div>\n",
       "<style scoped>\n",
       "    .dataframe tbody tr th:only-of-type {\n",
       "        vertical-align: middle;\n",
       "    }\n",
       "\n",
       "    .dataframe tbody tr th {\n",
       "        vertical-align: top;\n",
       "    }\n",
       "\n",
       "    .dataframe thead th {\n",
       "        text-align: right;\n",
       "    }\n",
       "</style>\n",
       "<table border=\"1\" class=\"dataframe\">\n",
       "  <thead>\n",
       "    <tr style=\"text-align: right;\">\n",
       "      <th></th>\n",
       "      <th>cten</th>\n",
       "      <th>n</th>\n",
       "    </tr>\n",
       "  </thead>\n",
       "  <tbody>\n",
       "    <tr>\n",
       "      <th>0</th>\n",
       "      <td>00 accounts</td>\n",
       "      <td>43589</td>\n",
       "    </tr>\n",
       "    <tr>\n",
       "      <th>1</th>\n",
       "      <td>01 chargeoff</td>\n",
       "      <td>9317</td>\n",
       "    </tr>\n",
       "    <tr>\n",
       "      <th>2</th>\n",
       "      <td>02 repurchase</td>\n",
       "      <td>464</td>\n",
       "    </tr>\n",
       "    <tr>\n",
       "      <th>3</th>\n",
       "      <td>03 third party</td>\n",
       "      <td>2814</td>\n",
       "    </tr>\n",
       "    <tr>\n",
       "      <th>4</th>\n",
       "      <td>12 co and rep</td>\n",
       "      <td>1</td>\n",
       "    </tr>\n",
       "    <tr>\n",
       "      <th>5</th>\n",
       "      <td>13 co and sold</td>\n",
       "      <td>2812</td>\n",
       "    </tr>\n",
       "    <tr>\n",
       "      <th>6</th>\n",
       "      <td>23 repurchase and sold</td>\n",
       "      <td>0</td>\n",
       "    </tr>\n",
       "    <tr>\n",
       "      <th>7</th>\n",
       "      <td>30 just everything</td>\n",
       "      <td>0</td>\n",
       "    </tr>\n",
       "  </tbody>\n",
       "</table>\n",
       "</div>"
      ],
      "text/plain": [
       "                     cten      n\n",
       "0             00 accounts  43589\n",
       "1            01 chargeoff   9317\n",
       "2           02 repurchase    464\n",
       "3          03 third party   2814\n",
       "4           12 co and rep      1\n",
       "5          13 co and sold   2812\n",
       "6  23 repurchase and sold      0\n",
       "7      30 just everything      0"
      ]
     },
     "execution_count": 44,
     "metadata": {},
     "output_type": "execute_result"
    }
   ],
   "source": [
    "qT  = open(\"sql/delinquencyBeforeCO.sql\").read()\n",
    "multiEndR = pd.read_sql(qT.format(final=\"select * from overlap order by cten\"), con)\n",
    "multiEndR"
   ]
  },
  {
   "cell_type": "markdown",
   "id": "f82dfeaf-fe7e-455d-ae8d-830e4b8c085e",
   "metadata": {},
   "source": [
    "#### Looking at full delinquency histories for CO"
   ]
  },
  {
   "cell_type": "code",
   "execution_count": 45,
   "id": "ad3645bb-ad0c-4df3-b1b5-f9083ca591d8",
   "metadata": {},
   "outputs": [
    {
     "data": {
      "text/plain": [
       "(340279, 9)"
      ]
     },
     "execution_count": 45,
     "metadata": {},
     "output_type": "execute_result"
    }
   ],
   "source": [
    "delHistR = pd.read_sql(qT.format(final=\"select * from cohist order by 1, 2\"), con)\n",
    "delHistR.shape"
   ]
  },
  {
   "cell_type": "code",
   "execution_count": 48,
   "id": "4faefe8d-38e0-452b-beaa-cb3997af3fcf",
   "metadata": {},
   "outputs": [],
   "source": [
    "exampleL = list(set(delHistR.assetNumber))"
   ]
  },
  {
   "cell_type": "code",
   "execution_count": 50,
   "id": "7b1bd90d-480f-44ff-a00a-97ca35e56a87",
   "metadata": {},
   "outputs": [
    {
     "data": {
      "text/html": [
       "<div>\n",
       "<style scoped>\n",
       "    .dataframe tbody tr th:only-of-type {\n",
       "        vertical-align: middle;\n",
       "    }\n",
       "\n",
       "    .dataframe tbody tr th {\n",
       "        vertical-align: top;\n",
       "    }\n",
       "\n",
       "    .dataframe thead th {\n",
       "        text-align: right;\n",
       "    }\n",
       "</style>\n",
       "<table border=\"1\" class=\"dataframe\">\n",
       "  <thead>\n",
       "    <tr style=\"text-align: right;\">\n",
       "      <th></th>\n",
       "      <th>assetNumber</th>\n",
       "      <th>reportingPeriodBeginningDate</th>\n",
       "      <th>zeroBalanceCode</th>\n",
       "      <th>currentDelinquencyStatus</th>\n",
       "      <th>totalActualAmountPaid</th>\n",
       "      <th>modificationtypecode</th>\n",
       "      <th>reportingPeriodModificationIndicator</th>\n",
       "      <th>repossessedIndicator</th>\n",
       "      <th>recoveredAmount</th>\n",
       "    </tr>\n",
       "  </thead>\n",
       "  <tbody>\n",
       "    <tr>\n",
       "      <th>214154</th>\n",
       "      <td>210622629922654301</td>\n",
       "      <td>2020-08-01</td>\n",
       "      <td>nan</td>\n",
       "      <td>4</td>\n",
       "      <td>0.0</td>\n",
       "      <td>NaN</td>\n",
       "      <td>0</td>\n",
       "      <td>0</td>\n",
       "      <td>0.0</td>\n",
       "    </tr>\n",
       "    <tr>\n",
       "      <th>214155</th>\n",
       "      <td>210622629922654301</td>\n",
       "      <td>2020-09-01</td>\n",
       "      <td>nan</td>\n",
       "      <td>34</td>\n",
       "      <td>0.0</td>\n",
       "      <td>NaN</td>\n",
       "      <td>0</td>\n",
       "      <td>0</td>\n",
       "      <td>0.0</td>\n",
       "    </tr>\n",
       "    <tr>\n",
       "      <th>214156</th>\n",
       "      <td>210622629922654301</td>\n",
       "      <td>2020-10-01</td>\n",
       "      <td>nan</td>\n",
       "      <td>65</td>\n",
       "      <td>0.0</td>\n",
       "      <td>NaN</td>\n",
       "      <td>0</td>\n",
       "      <td>0</td>\n",
       "      <td>NaN</td>\n",
       "    </tr>\n",
       "    <tr>\n",
       "      <th>214157</th>\n",
       "      <td>210622629922654301</td>\n",
       "      <td>2020-11-01</td>\n",
       "      <td>nan</td>\n",
       "      <td>95</td>\n",
       "      <td>320.0</td>\n",
       "      <td>NaN</td>\n",
       "      <td>0</td>\n",
       "      <td>0</td>\n",
       "      <td>NaN</td>\n",
       "    </tr>\n",
       "    <tr>\n",
       "      <th>214158</th>\n",
       "      <td>210622629922654301</td>\n",
       "      <td>2020-12-01</td>\n",
       "      <td>4.0</td>\n",
       "      <td>0</td>\n",
       "      <td>0.0</td>\n",
       "      <td>1.0</td>\n",
       "      <td>1</td>\n",
       "      <td>0</td>\n",
       "      <td>0.0</td>\n",
       "    </tr>\n",
       "    <tr>\n",
       "      <th>214159</th>\n",
       "      <td>210622629922654301</td>\n",
       "      <td>2021-01-01</td>\n",
       "      <td>4.0</td>\n",
       "      <td>0</td>\n",
       "      <td>0.0</td>\n",
       "      <td>NaN</td>\n",
       "      <td>0</td>\n",
       "      <td>0</td>\n",
       "      <td>0.0</td>\n",
       "    </tr>\n",
       "  </tbody>\n",
       "</table>\n",
       "</div>"
      ],
      "text/plain": [
       "               assetNumber reportingPeriodBeginningDate zeroBalanceCode  \\\n",
       "214154  210622629922654301                   2020-08-01             nan   \n",
       "214155  210622629922654301                   2020-09-01             nan   \n",
       "214156  210622629922654301                   2020-10-01             nan   \n",
       "214157  210622629922654301                   2020-11-01             nan   \n",
       "214158  210622629922654301                   2020-12-01             4.0   \n",
       "214159  210622629922654301                   2021-01-01             4.0   \n",
       "\n",
       "        currentDelinquencyStatus  totalActualAmountPaid  modificationtypecode  \\\n",
       "214154                         4                    0.0                   NaN   \n",
       "214155                        34                    0.0                   NaN   \n",
       "214156                        65                    0.0                   NaN   \n",
       "214157                        95                  320.0                   NaN   \n",
       "214158                         0                    0.0                   1.0   \n",
       "214159                         0                    0.0                   NaN   \n",
       "\n",
       "        reportingPeriodModificationIndicator  repossessedIndicator  \\\n",
       "214154                                     0                     0   \n",
       "214155                                     0                     0   \n",
       "214156                                     0                     0   \n",
       "214157                                     0                     0   \n",
       "214158                                     1                     0   \n",
       "214159                                     0                     0   \n",
       "\n",
       "        recoveredAmount  \n",
       "214154              0.0  \n",
       "214155              0.0  \n",
       "214156              NaN  \n",
       "214157              NaN  \n",
       "214158              0.0  \n",
       "214159              0.0  "
      ]
     },
     "execution_count": 50,
     "metadata": {},
     "output_type": "execute_result"
    }
   ],
   "source": [
    "i = 0\n",
    "delHistR.query(\"assetNumber == %d\" %(exampleL[i])).head(6)"
   ]
  },
  {
   "cell_type": "code",
   "execution_count": 52,
   "id": "48259a9c-2755-4bad-92ea-ef8d3d83e90a",
   "metadata": {},
   "outputs": [
    {
     "data": {
      "text/html": [
       "<div>\n",
       "<style scoped>\n",
       "    .dataframe tbody tr th:only-of-type {\n",
       "        vertical-align: middle;\n",
       "    }\n",
       "\n",
       "    .dataframe tbody tr th {\n",
       "        vertical-align: top;\n",
       "    }\n",
       "\n",
       "    .dataframe thead th {\n",
       "        text-align: right;\n",
       "    }\n",
       "</style>\n",
       "<table border=\"1\" class=\"dataframe\">\n",
       "  <thead>\n",
       "    <tr style=\"text-align: right;\">\n",
       "      <th></th>\n",
       "      <th>assetNumber</th>\n",
       "      <th>reportingPeriodBeginningDate</th>\n",
       "      <th>zeroBalanceCode</th>\n",
       "      <th>currentDelinquencyStatus</th>\n",
       "      <th>totalActualAmountPaid</th>\n",
       "      <th>modificationtypecode</th>\n",
       "      <th>reportingPeriodModificationIndicator</th>\n",
       "      <th>repossessedIndicator</th>\n",
       "      <th>recoveredAmount</th>\n",
       "    </tr>\n",
       "  </thead>\n",
       "  <tbody>\n",
       "    <tr>\n",
       "      <th>201102</th>\n",
       "      <td>210584229921454301</td>\n",
       "      <td>2020-08-01</td>\n",
       "      <td>nan</td>\n",
       "      <td>0</td>\n",
       "      <td>800.7</td>\n",
       "      <td>NaN</td>\n",
       "      <td>0</td>\n",
       "      <td>0</td>\n",
       "      <td>0.0</td>\n",
       "    </tr>\n",
       "    <tr>\n",
       "      <th>201103</th>\n",
       "      <td>210584229921454301</td>\n",
       "      <td>2020-09-01</td>\n",
       "      <td>nan</td>\n",
       "      <td>2</td>\n",
       "      <td>0.0</td>\n",
       "      <td>NaN</td>\n",
       "      <td>0</td>\n",
       "      <td>0</td>\n",
       "      <td>0.0</td>\n",
       "    </tr>\n",
       "    <tr>\n",
       "      <th>201104</th>\n",
       "      <td>210584229921454301</td>\n",
       "      <td>2020-10-01</td>\n",
       "      <td>nan</td>\n",
       "      <td>33</td>\n",
       "      <td>0.0</td>\n",
       "      <td>NaN</td>\n",
       "      <td>0</td>\n",
       "      <td>0</td>\n",
       "      <td>NaN</td>\n",
       "    </tr>\n",
       "    <tr>\n",
       "      <th>201105</th>\n",
       "      <td>210584229921454301</td>\n",
       "      <td>2020-11-01</td>\n",
       "      <td>nan</td>\n",
       "      <td>63</td>\n",
       "      <td>0.0</td>\n",
       "      <td>NaN</td>\n",
       "      <td>0</td>\n",
       "      <td>0</td>\n",
       "      <td>NaN</td>\n",
       "    </tr>\n",
       "    <tr>\n",
       "      <th>201106</th>\n",
       "      <td>210584229921454301</td>\n",
       "      <td>2020-12-01</td>\n",
       "      <td>nan</td>\n",
       "      <td>94</td>\n",
       "      <td>0.0</td>\n",
       "      <td>NaN</td>\n",
       "      <td>0</td>\n",
       "      <td>0</td>\n",
       "      <td>NaN</td>\n",
       "    </tr>\n",
       "    <tr>\n",
       "      <th>201107</th>\n",
       "      <td>210584229921454301</td>\n",
       "      <td>2021-01-01</td>\n",
       "      <td>nan</td>\n",
       "      <td>125</td>\n",
       "      <td>0.0</td>\n",
       "      <td>NaN</td>\n",
       "      <td>0</td>\n",
       "      <td>1</td>\n",
       "      <td>NaN</td>\n",
       "    </tr>\n",
       "    <tr>\n",
       "      <th>201108</th>\n",
       "      <td>210584229921454301</td>\n",
       "      <td>2021-02-01</td>\n",
       "      <td>4.0</td>\n",
       "      <td>0</td>\n",
       "      <td>0.0</td>\n",
       "      <td>1.0</td>\n",
       "      <td>1</td>\n",
       "      <td>1</td>\n",
       "      <td>6069.0</td>\n",
       "    </tr>\n",
       "    <tr>\n",
       "      <th>201109</th>\n",
       "      <td>210584229921454301</td>\n",
       "      <td>2021-03-01</td>\n",
       "      <td>4.0</td>\n",
       "      <td>0</td>\n",
       "      <td>0.0</td>\n",
       "      <td>NaN</td>\n",
       "      <td>0</td>\n",
       "      <td>1</td>\n",
       "      <td>NaN</td>\n",
       "    </tr>\n",
       "  </tbody>\n",
       "</table>\n",
       "</div>"
      ],
      "text/plain": [
       "               assetNumber reportingPeriodBeginningDate zeroBalanceCode  \\\n",
       "201102  210584229921454301                   2020-08-01             nan   \n",
       "201103  210584229921454301                   2020-09-01             nan   \n",
       "201104  210584229921454301                   2020-10-01             nan   \n",
       "201105  210584229921454301                   2020-11-01             nan   \n",
       "201106  210584229921454301                   2020-12-01             nan   \n",
       "201107  210584229921454301                   2021-01-01             nan   \n",
       "201108  210584229921454301                   2021-02-01             4.0   \n",
       "201109  210584229921454301                   2021-03-01             4.0   \n",
       "\n",
       "        currentDelinquencyStatus  totalActualAmountPaid  modificationtypecode  \\\n",
       "201102                         0                  800.7                   NaN   \n",
       "201103                         2                    0.0                   NaN   \n",
       "201104                        33                    0.0                   NaN   \n",
       "201105                        63                    0.0                   NaN   \n",
       "201106                        94                    0.0                   NaN   \n",
       "201107                       125                    0.0                   NaN   \n",
       "201108                         0                    0.0                   1.0   \n",
       "201109                         0                    0.0                   NaN   \n",
       "\n",
       "        reportingPeriodModificationIndicator  repossessedIndicator  \\\n",
       "201102                                     0                     0   \n",
       "201103                                     0                     0   \n",
       "201104                                     0                     0   \n",
       "201105                                     0                     0   \n",
       "201106                                     0                     0   \n",
       "201107                                     0                     1   \n",
       "201108                                     1                     1   \n",
       "201109                                     0                     1   \n",
       "\n",
       "        recoveredAmount  \n",
       "201102              0.0  \n",
       "201103              0.0  \n",
       "201104              NaN  \n",
       "201105              NaN  \n",
       "201106              NaN  \n",
       "201107              NaN  \n",
       "201108           6069.0  \n",
       "201109              NaN  "
      ]
     },
     "execution_count": 52,
     "metadata": {},
     "output_type": "execute_result"
    }
   ],
   "source": [
    "i = 1\n",
    "delHistR.query(\"assetNumber == %d\" %(exampleL[i])).head(8)"
   ]
  },
  {
   "cell_type": "code",
   "execution_count": null,
   "id": "b56ce273-413e-4f73-b135-54ca7b8c16a3",
   "metadata": {},
   "outputs": [],
   "source": []
  }
 ],
 "metadata": {
  "kernelspec": {
   "display_name": "Python 3 (ipykernel)",
   "language": "python",
   "name": "python3"
  },
  "language_info": {
   "codemirror_mode": {
    "name": "ipython",
    "version": 3
   },
   "file_extension": ".py",
   "mimetype": "text/x-python",
   "name": "python",
   "nbconvert_exporter": "python",
   "pygments_lexer": "ipython3",
   "version": "3.10.13"
  }
 },
 "nbformat": 4,
 "nbformat_minor": 5
}
